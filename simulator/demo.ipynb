{
 "cells": [
  {
   "cell_type": "code",
   "execution_count": 1,
   "metadata": {},
   "outputs": [],
   "source": [
    "import pandas as pd\n",
    "from Timer import Timer\n",
    "from Battery import Battery\n",
    "from read import Reading\n",
    "import threading\n",
    "import time\n",
    "from Simulator import Simulator "
   ]
  },
  {
   "cell_type": "code",
   "execution_count": 2,
   "metadata": {},
   "outputs": [],
   "source": [
    "timer_instance = Timer(init_time=\"2015-07-10\")\n",
    "battery_instance = Battery(capacity=1000, charge=1000, base_consume=5, is_monitored=True, monitoring_interval=10)\n",
    "reading_instance = Reading(\"log_2023-08-25_13-10-13.txt\", \"b.txt\")\n",
    "\n",
    "simulator = Simulator(battery=battery_instance, \n",
    "                      timer=timer_instance, \n",
    "                      reading=reading_instance, \n",
    "                      worst_case=False, \n",
    "                      sensing_freq=2, \n",
    "                      window=30\n",
    "                      )"
   ]
  },
  {
   "cell_type": "code",
   "execution_count": 3,
   "metadata": {},
   "outputs": [],
   "source": [
    "# simulator.run()\n"
   ]
  },
  {
   "cell_type": "code",
   "execution_count": 4,
   "metadata": {},
   "outputs": [
    {
     "name": "stdout",
     "output_type": "stream",
     "text": [
      "Current time 2015-07-10 00:00:00\n",
      "End time 2015-07-10 00:00:30\n",
      "Current battery level: 1000\n",
      "Total time taken: 0.011342894999999853 seconds\n",
      "Total time taken: 0.012704203999998498 seconds\n"
     ]
    }
   ],
   "source": [
    "timer_instance = Timer(init_time=\"2015-07-10\")\n",
    "battery_instance = Battery(capacity=100, charge=100, base_consume=5, is_monitored=True, monitoring_interval=10)\n",
    "reading_instance = Reading(\"log_2023-08-25_13-10-13.txt\", \"b.txt\")\n",
    "\n",
    "simulator = Simulator(battery=battery_instance, \n",
    "                      timer=timer_instance, \n",
    "                      reading=reading_instance, \n",
    "                      worst_case=False, \n",
    "                      sensing_freq=2, \n",
    "                      window=30\n",
    "                     \n",
    "                      )\n",
    "simulator.run()"
   ]
  },
  {
   "cell_type": "code",
   "execution_count": null,
   "metadata": {},
   "outputs": [],
   "source": []
  }
 ],
 "metadata": {
  "kernelspec": {
   "display_name": "Python 3",
   "language": "python",
   "name": "python3"
  },
  "language_info": {
   "codemirror_mode": {
    "name": "ipython",
    "version": 3
   },
   "file_extension": ".py",
   "mimetype": "text/x-python",
   "name": "python",
   "nbconvert_exporter": "python",
   "pygments_lexer": "ipython3",
   "version": "3.9.6"
  }
 },
 "nbformat": 4,
 "nbformat_minor": 2
}
