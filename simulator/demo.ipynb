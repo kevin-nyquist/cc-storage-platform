{
 "cells": [
  {
   "cell_type": "code",
   "execution_count": 1,
   "metadata": {},
   "outputs": [],
   "source": [
    "import pandas as pd\n",
    "from Timer import Timer\n",
    "from Battery import Battery\n",
    "from read import Reading\n",
    "import threading\n",
    "import time\n",
    "from Simulator import Simulator "
   ]
  },
  {
   "cell_type": "code",
   "execution_count": 6,
   "metadata": {},
   "outputs": [
    {
     "name": "stdout",
     "output_type": "stream",
     "text": [
      "Current time 2015-07-10 00:00:00\n",
      "End time 2015-07-10 00:00:30\n",
      "Current battery level: 1000\n",
      "Total time taken: 0.011630091000000675 seconds\n",
      "Total time taken: 0.014084642999989683 seconds\n"
     ]
    },
    {
     "data": {
      "text/plain": [
       "745.0"
      ]
     },
     "execution_count": 6,
     "metadata": {},
     "output_type": "execute_result"
    }
   ],
   "source": [
    "\"\"\" \n",
    "Standard simulation run with sufficient power\n",
    "\"\"\"\n",
    "timer_instance = Timer(init_time=\"2015-07-10\")\n",
    "battery_instance = Battery(capacity=1000, charge=1000, base_consume=5, is_monitored=True, monitoring_interval=10)\n",
    "reading_instance = Reading(\"log_2023-08-25_13-10-13.txt\", \"b.txt\")\n",
    "\n",
    "simulator1 = Simulator(battery=battery_instance, \n",
    "                      timer=timer_instance, \n",
    "                      reading=reading_instance, \n",
    "                      sensing_freq=2, \n",
    "                      window=30\n",
    "                      )\n",
    "simulator1.run()"
   ]
  },
  {
   "cell_type": "code",
   "execution_count": 2,
   "metadata": {},
   "outputs": [
    {
     "name": "stdout",
     "output_type": "stream",
     "text": [
      "Current time 2015-07-10 00:00:00\n",
      "End time 2015-07-10 00:00:10\n",
      "Current battery level: 260\n",
      "Contents in backup file: sensorid: orp1,ori: 403,orpValue: 359.81\n",
      "sensorid: orp1,ori: 400,orpValue: 352.96\n",
      "sensorid: orp1,ori: 401,orpValue: 355.25\n",
      "offset: 24mV\n",
      "sensorid: orp2, orpValue: 111.99mV\n",
      "sensorid: orp2, orpValue: 133.35mV\n",
      "sensorid: orp2, orpValue: 140.06mV\n",
      "sensorid: orp2, orpValue: 144.95mV\n",
      "sensorid: orp2, orpValue: 146.17mV\n",
      "\n",
      "Total time taken: 0.00893073599999994 seconds\n",
      "Contents in backup file: sensorid: orp1,ori: 403,orpValue: 359.81\n",
      "sensorid: orp1,ori: 400,orpValue: 352.96\n",
      "sensorid: orp1,ori: 401,orpValue: 355.25\n",
      "offset: 24mV\n",
      "sensorid: orp2, orpValue: 111.99mV\n",
      "sensorid: orp2, orpValue: 133.35mV\n",
      "sensorid: orp2, orpValue: 140.06mV\n",
      "sensorid: orp2, orpValue: 144.95mV\n",
      "sensorid: orp2, orpValue: 146.17mV\n",
      "\n",
      "Copying remaining content to backup file due to low battery\n",
      "Copying remaining content to backup file due to low battery\n",
      "Copying remaining content to backup file due to low battery\n",
      "Copying remaining content to backup file due to low battery\n",
      "Copying remaining content to backup file due to low battery\n",
      "Copying remaining content to backup file due to low battery\n",
      "Copying remaining content to backup file due to low battery\n",
      "Copying remaining content to backup file due to low battery\n",
      "Copying remaining content to backup file due to low battery\n",
      "Total time taken: 0.012271229999999633 seconds\n"
     ]
    },
    {
     "data": {
      "text/plain": [
       "5.0"
      ]
     },
     "execution_count": 2,
     "metadata": {},
     "output_type": "execute_result"
    }
   ],
   "source": [
    "\"\"\" \n",
    "Standard simulation run just enough power\n",
    "\"\"\"\n",
    "timer_instance = Timer(init_time=\"2015-07-10\")\n",
    "battery_instance = Battery(capacity=260, charge=260, base_consume=5, is_monitored=True, monitoring_interval=10)\n",
    "reading_instance = Reading(\"log_2023-08-25_13-10-13.txt\", \"b.txt\")\n",
    "\n",
    "simulator2 = Simulator(battery=battery_instance, \n",
    "                      timer=timer_instance, \n",
    "                      reading=reading_instance, \n",
    "                      sensing_freq=2, \n",
    "                      window=10\n",
    "                      )\n",
    "simulator2.run()\n",
    "simulator2.battery.charge"
   ]
  },
  {
   "cell_type": "code",
   "execution_count": 4,
   "metadata": {},
   "outputs": [
    {
     "ename": "NameError",
     "evalue": "name 'simulator2' is not defined",
     "output_type": "error",
     "traceback": [
      "\u001b[0;31m---------------------------------------------------------------------------\u001b[0m",
      "\u001b[0;31mNameError\u001b[0m                                 Traceback (most recent call last)",
      "\u001b[1;32m/Users/kevinnyquist/Documents/GitHub/cc-storage-platform/simulator/demo.ipynb Cell 4\u001b[0m line \u001b[0;36m1\n\u001b[0;32m----> <a href='vscode-notebook-cell:/Users/kevinnyquist/Documents/GitHub/cc-storage-platform/simulator/demo.ipynb#X11sZmlsZQ%3D%3D?line=0'>1</a>\u001b[0m simulator2\u001b[39m.\u001b[39mbattery\u001b[39m.\u001b[39mcharge\n",
      "\u001b[0;31mNameError\u001b[0m: name 'simulator2' is not defined"
     ]
    }
   ],
   "source": []
  },
  {
   "cell_type": "code",
   "execution_count": 4,
   "metadata": {},
   "outputs": [
    {
     "name": "stdout",
     "output_type": "stream",
     "text": [
      "Current time 2015-07-10 00:00:00\n",
      "End time 2015-07-10 00:00:30\n",
      "Current battery level: 100\n",
      "Simulator shutting down due to low battery!\n"
     ]
    },
    {
     "name": "stdout",
     "output_type": "stream",
     "text": [
      "Current battery level: 0\n",
      "Current battery level: 0\n",
      "Current battery level: 0\n",
      "Current battery level: 0\n",
      "Current battery level: 0\n",
      "Current battery level: 0\n",
      "Current battery level: 0\n",
      "Current battery level: 0\n",
      "Current battery level: 0\n",
      "Current battery level: 0\n",
      "Current battery level: 0\n",
      "Current battery level: 0\n",
      "Current battery level: 0\n",
      "Current battery level: 0\n",
      "Current battery level: 0\n"
     ]
    }
   ],
   "source": [
    "\"\"\" \n",
    "Simulation run with loss of power\n",
    "\"\"\"\n",
    "timer_instance = Timer(init_time=\"2015-07-10\")\n",
    "battery_instance = Battery(capacity=100, charge=100, base_consume=5, is_monitored=True, monitoring_interval=10)\n",
    "reading_instance = Reading(\"Moby-Dick-1MB.txt\", \"c.txt\")\n",
    "\n",
    "simulator3 = Simulator(battery=battery_instance, \n",
    "                      timer=timer_instance, \n",
    "                      reading=reading_instance, \n",
    "                      sensing_freq=2, \n",
    "                      window=30\n",
    "                      )\n",
    "simulator3.run()"
   ]
  },
  {
   "cell_type": "code",
   "execution_count": null,
   "metadata": {},
   "outputs": [],
   "source": [
    "\"\"\" \n",
    "Simulation run with power dropping below the low power threshold\n",
    "\"\"\""
   ]
  }
 ],
 "metadata": {
  "kernelspec": {
   "display_name": "Python 3",
   "language": "python",
   "name": "python3"
  },
  "language_info": {
   "codemirror_mode": {
    "name": "ipython",
    "version": 3
   },
   "file_extension": ".py",
   "mimetype": "text/x-python",
   "name": "python",
   "nbconvert_exporter": "python",
   "pygments_lexer": "ipython3",
   "version": "3.9.6"
  }
 },
 "nbformat": 4,
 "nbformat_minor": 2
}
