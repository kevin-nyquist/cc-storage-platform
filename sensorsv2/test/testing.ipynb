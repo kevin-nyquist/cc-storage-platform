{
 "cells": [
  {
   "cell_type": "code",
   "execution_count": null,
   "metadata": {},
   "outputs": [],
   "source": [
    "import serial\n",
    "import time\n",
    "\n",
    "arduino = serial.Serial(port='/dev/cu.usbmodem1301', baudrate=9600, timeout=2)\n",
    "#timeout=None : wait forever / until requested number of bytes are received"
   ]
  },
  {
   "cell_type": "code",
   "execution_count": null,
   "metadata": {},
   "outputs": [],
   "source": [
    "while True:\n",
    "    arduino.write(b'start')\n",
    "    data = arduino.readline().decode().rstrip()\n",
    "    if data == \"EOF\":\n",
    "        print(\"sensing ended\")\n",
    "        break\n",
    "    if data != \"\": \n",
    "        print(data)"
   ]
  },
  {
   "cell_type": "code",
   "execution_count": null,
   "metadata": {},
   "outputs": [],
   "source": [
    "#ph1 atlas scientific"
   ]
  }
 ],
 "metadata": {
  "kernelspec": {
   "display_name": "Python 3.9.6 ('.venv': venv)",
   "language": "python",
   "name": "python3"
  },
  "language_info": {
   "codemirror_mode": {
    "name": "ipython",
    "version": 3
   },
   "file_extension": ".py",
   "mimetype": "text/x-python",
   "name": "python",
   "nbconvert_exporter": "python",
   "pygments_lexer": "ipython3",
   "version": "3.9.6"
  },
  "orig_nbformat": 4,
  "vscode": {
   "interpreter": {
    "hash": "17d08c2140562b69805cb924222977f2c68196f7da9f7670516265ddf9c0eeed"
   }
  }
 },
 "nbformat": 4,
 "nbformat_minor": 2
}
